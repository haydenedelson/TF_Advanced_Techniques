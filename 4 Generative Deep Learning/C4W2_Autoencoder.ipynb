{
  "nbformat": 4,
  "nbformat_minor": 0,
  "metadata": {
    "accelerator": "GPU",
    "kernelspec": {
      "display_name": "Python 3",
      "language": "python",
      "name": "python3"
    },
    "language_info": {
      "codemirror_mode": {
        "name": "ipython",
        "version": 3
      },
      "file_extension": ".py",
      "mimetype": "text/x-python",
      "name": "python",
      "nbconvert_exporter": "python",
      "pygments_lexer": "ipython3",
      "version": "3.7.4"
    },
    "colab": {
      "name": "C4W2_Assignment.ipynb",
      "private_outputs": true,
      "provenance": [],
      "collapsed_sections": []
    }
  },
  "cells": [
    {
      "cell_type": "markdown",
      "metadata": {
        "id": "L6S2HVAkSt0p"
      },
      "source": [
        "# Week 2 Assignment: CIFAR-10 Autoencoder\n",
        "\n",
        "For this week, you will create a convolutional autoencoder for the [CIFAR10](https://www.tensorflow.org/datasets/catalog/cifar10) dataset. You are free to choose the architecture of your autoencoder provided that the output image has the same dimensions as the input image.\n",
        "\n",
        "After training, your model should meet loss and accuracy requirements when evaluated with the test dataset. You will then download the model and upload it in the classroom for grading. \n",
        "\n",
        "Let's begin!"
      ]
    },
    {
      "cell_type": "markdown",
      "metadata": {
        "id": "6r4iPr2jyisR"
      },
      "source": [
        "***Important:*** *This colab notebook has read-only access so you won't be able to save your changes. If you want to save your work periodically, please click `File -> Save a Copy in Drive` to create a copy in your account, then work from there.*  "
      ]
    },
    {
      "cell_type": "markdown",
      "metadata": {
        "id": "g1mzy2J8_nc1"
      },
      "source": [
        "## Imports"
      ]
    },
    {
      "cell_type": "code",
      "metadata": {
        "id": "3EXwoz-KHtWO"
      },
      "source": [
        "try:\n",
        "  # %tensorflow_version only exists in Colab.\n",
        "  %tensorflow_version 2.x\n",
        "except Exception:\n",
        "  pass\n",
        "\n",
        "import numpy as np\n",
        "import matplotlib.pyplot as plt\n",
        "import tensorflow as tf\n",
        "import tensorflow_datasets as tfds\n",
        "\n",
        "from keras.models import Sequential"
      ],
      "execution_count": null,
      "outputs": []
    },
    {
      "cell_type": "markdown",
      "metadata": {
        "id": "n2Gs6Lyc_pd0"
      },
      "source": [
        "## Load and prepare the dataset\n",
        "\n",
        "The [CIFAR 10](https://www.tensorflow.org/datasets/catalog/cifar10) dataset already has train and test splits and you can use those in this exercise. Here are the general steps:\n",
        "\n",
        "* Load the train/test split from TFDS. Set `as_supervised` to `True` so it will be convenient to use the preprocessing function we provided.\n",
        "* Normalize the pixel values to the range [0,1], then return `image, image` pairs for training instead of `image, label`. This is because you will check if the output image is successfully regenerated after going through your autoencoder.\n",
        "* Shuffle and batch the train set. Batch the test set (no need to shuffle).\n"
      ]
    },
    {
      "cell_type": "code",
      "metadata": {
        "id": "t9F7YsCNIKSA"
      },
      "source": [
        "# preprocessing function\n",
        "def map_image(image, label):\n",
        "  image = tf.cast(image, dtype=tf.float32)\n",
        "  image = image / 255.0\n",
        "\n",
        "  return image, image # dataset label is not used. replaced with the same image input.\n",
        "\n",
        "# parameters\n",
        "BATCH_SIZE = 128\n",
        "SHUFFLE_BUFFER_SIZE = 1024\n",
        "\n",
        "\n",
        "### START CODE HERE (Replace instances of `None` with your code) ###\n",
        "\n",
        "# use tfds.load() to fetch the 'train' split of CIFAR-10\n",
        "train_dataset = tfds.load('cifar10', as_supervised=True, split='train')\n",
        "\n",
        "# preprocess the dataset with the `map_image()` function above\n",
        "train_dataset = train_dataset.map(map_image)\n",
        "\n",
        "# shuffle and batch the dataset\n",
        "train_dataset = train_dataset.shuffle(SHUFFLE_BUFFER_SIZE).batch(BATCH_SIZE)\n",
        "\n",
        "# use tfds.load() to fetch the 'test' split of CIFAR-10\n",
        "test_dataset = tfds.load('cifar10', as_supervised=True, split='test')\n",
        "\n",
        "# preprocess the dataset with the `map_image()` function above\n",
        "test_dataset = test_dataset.map(map_image)\n",
        "\n",
        "# batch the dataset\n",
        "test_dataset = test_dataset.batch(BATCH_SIZE)\n",
        "\n",
        "### END CODE HERE ###"
      ],
      "execution_count": null,
      "outputs": []
    },
    {
      "cell_type": "markdown",
      "metadata": {
        "id": "rPyOgGJs_t98"
      },
      "source": [
        "## Build the Model\n",
        "\n",
        "Create the autoencoder model. As shown in the lectures, you will want to downsample the image in the encoder layers then upsample it in the decoder path. Note that the output layer should be the same dimensions as the original image. Your input images will have the shape `(32, 32, 3)`. If you deviate from this, your model may not be recognized by the grader and may fail. \n",
        "\n",
        "We included a few hints to use the Sequential API below but feel free to remove it and use the Functional API just like in the ungraded labs if you're more comfortable with it. Another reason to use the latter is if you want to visualize the encoder output. As shown in the ungraded labs, it will be easier to indicate multiple outputs with the Functional API. That is not required for this assignment though so you can just stack layers sequentially if you want a simpler solution."
      ]
    },
    {
      "cell_type": "code",
      "metadata": {
        "id": "Wr-Bok3lRgA3"
      },
      "source": [
        "### START CODE HERE ###\n",
        "\n",
        "from keras.layers import Input, Conv2D, BatchNormalization, MaxPooling2D, UpSampling2D\n",
        "from keras import Model\n",
        "\n",
        "def encoder(x, init_num_fil=32, num_blocks=4):\n",
        "  \"\"\"Return encoder model and number of filters to pass to bottleneck layer\"\"\"\n",
        "\n",
        "  # Set initial number of filters, which will be increased as loop iterates\n",
        "  num_fil = init_num_fil\n",
        "\n",
        "  for i in range(num_blocks):\n",
        "    # Define each block as convolution followed by batch norm\n",
        "    x = Conv2D(filters=num_fil, kernel_size=(3, 3), activation='relu', padding='same')(x)\n",
        "    x = BatchNormalization()(x)\n",
        "\n",
        "    # After every other block, add max pooling\n",
        "    if i % 2 == 1:\n",
        "      x = MaxPooling2D(pool_size=(2, 2))(x)\n",
        "    \n",
        "    # Double number of filters\n",
        "    num_fil *= 2\n",
        "\n",
        "  return x, num_fil\n",
        "\n",
        "def bottleneck(x, num_fil):\n",
        "  \"\"\"Return bottleneck layer, encoder visualization, and initial number of filters for decoder model\"\"\"\n",
        "\n",
        "  # Add convolution & batch norm bottleneck\n",
        "  x = Conv2D(filters=num_fil, kernel_size=(3, 3), activation='relu', padding='same')(x)\n",
        "  x = BatchNormalization()(x)\n",
        "\n",
        "  # Construct 2D encoder visualization\n",
        "  encoder_visualization = Conv2D(filters=1, kernel_size=(3,3), activation='sigmoid', padding='same')(x)\n",
        "\n",
        "  return x, encoder_visualization, num_fil / 2\n",
        "\n",
        "def decoder(x, init_num_fil=256, num_blocks=4):\n",
        "  \"\"\"Define decoder model to reconstruct original image\"\"\"\n",
        "\n",
        "  # Set initial number of filters, which will be decreased as loop iterates\n",
        "  num_fil = init_num_fil\n",
        "\n",
        "  for i in range(num_blocks):\n",
        "    # Start with upsampling - add upsampling after every other block\n",
        "    if i % 2 == 0:\n",
        "      x = UpSampling2D(size=(2, 2))(x)\n",
        "\n",
        "    # Define each block as convolution followed by batch norm\n",
        "    x = Conv2D(filters=num_fil, kernel_size=(3, 3), activation='relu', padding='same')(x)\n",
        "    x = BatchNormalization()(x)\n",
        "    \n",
        "    # Halve number of filters\n",
        "    num_fil /= 2\n",
        "  \n",
        "  # Create final reconstruction\n",
        "  x = Conv2D(filters=3, kernel_size=(3, 3), activation='sigmoid', padding='same')(x)\n",
        "\n",
        "  return x\n",
        "\n",
        "def autoencoder(input_dim=(32, 32, 3), init_num_fil=32, num_blocks=4):\n",
        "  \"\"\"Create autoencoder model to recreate images\"\"\"\n",
        "\n",
        "  # Define model components\n",
        "  inputs = Input(shape=input_dim)\n",
        "  encoder_output, bottleneck_num_fil = encoder(inputs, init_num_fil=init_num_fil, num_blocks=num_blocks)\n",
        "  bottleneck_layer, encoder_visualization, decoder_num_fil = bottleneck(encoder_output, bottleneck_num_fil)\n",
        "  decoder_output = decoder(bottleneck_layer, init_num_fil=decoder_num_fil, num_blocks=num_blocks)\n",
        "  \n",
        "  # Define encoder model & full autoencoder model\n",
        "  encoder_model = Model(inputs=inputs, outputs=encoder_visualization)\n",
        "  model = Model(inputs=inputs, outputs=decoder_output)\n",
        "\n",
        "  return model, encoder_model\n",
        "\n",
        "# Instantiate models\n",
        "model, encoder_model = autoencoder()\n",
        "\n",
        "### END CODE HERE ###\n",
        "\n",
        "model.summary()"
      ],
      "execution_count": null,
      "outputs": []
    },
    {
      "cell_type": "code",
      "metadata": {
        "id": "7yAhWFBDfMSz"
      },
      "source": [
        "encoder_model.summary()"
      ],
      "execution_count": null,
      "outputs": []
    },
    {
      "cell_type": "markdown",
      "metadata": {
        "id": "jRWTAijKEVUC"
      },
      "source": [
        "## Configure training parameters\n",
        "\n",
        "We have already provided the optimizer, metrics, and loss in the code below."
      ]
    },
    {
      "cell_type": "code",
      "metadata": {
        "id": "iHIeD9eDETSk"
      },
      "source": [
        "# Please do not change the model.compile() parameters\n",
        "model.compile(optimizer='adam', metrics=['accuracy'], loss='mean_squared_error')"
      ],
      "execution_count": null,
      "outputs": []
    },
    {
      "cell_type": "markdown",
      "metadata": {
        "id": "tLQPhm1W_8dC"
      },
      "source": [
        "## Training\n",
        "\n",
        "You can now use [model.fit()](https://keras.io/api/models/model_training_apis/#fit-method) to train your model. You will pass in the `train_dataset` and you are free to configure the other parameters. As with any training, you should see the loss generally going down and the accuracy going up with each epoch. If not, please revisit the previous sections to find possible bugs.\n",
        "\n",
        "*Note: If you get a `dataset length is infinite` error. Please check how you defined `train_dataset`. You might have included a [method that repeats the dataset indefinitely](https://www.tensorflow.org/api_docs/python/tf/data/Dataset#repeat).*"
      ]
    },
    {
      "cell_type": "code",
      "metadata": {
        "id": "AMBimOnsRvg0"
      },
      "source": [
        "# parameters (feel free to change this)\n",
        "train_steps = len(train_dataset) // BATCH_SIZE \n",
        "val_steps = len(test_dataset) // BATCH_SIZE\n",
        "\n",
        "### START CODE HERE ###\n",
        "history = model.fit(train_dataset.repeat(3),\n",
        "                    epochs=len(train_dataset.repeat(3)) // train_steps,\n",
        "                    steps_per_epoch=train_steps, \n",
        "                    validation_data=test_dataset, \n",
        "                    validation_steps=val_steps)\n",
        "### END CODE HERE ###"
      ],
      "execution_count": null,
      "outputs": []
    },
    {
      "cell_type": "markdown",
      "metadata": {
        "id": "PT2l1c-SAaF4"
      },
      "source": [
        "## Model evaluation\n",
        "\n",
        "You can use this code to test your model locally before uploading to the grader. To pass, your model needs to satisfy these two requirements:\n",
        "\n",
        "* loss must be less than 0.01 \n",
        "* accuracy must be greater than 0.6"
      ]
    },
    {
      "cell_type": "code",
      "metadata": {
        "id": "yuqsUf1kosCT"
      },
      "source": [
        "# Plot training losses\n",
        "plt.plot(history.history['loss']);"
      ],
      "execution_count": null,
      "outputs": []
    },
    {
      "cell_type": "code",
      "metadata": {
        "id": "vFncgqahSQhA"
      },
      "source": [
        "# Evaluate model on test data\n",
        "result = model.evaluate(test_dataset, steps=10)"
      ],
      "execution_count": null,
      "outputs": []
    },
    {
      "cell_type": "code",
      "metadata": {
        "id": "QADrKUtCU2l9"
      },
      "source": [
        "def display_one_row(disp_images, offset, shape=(32, 32, 3)):\n",
        "  '''Display sample outputs in one row'''\n",
        "\n",
        "  for idx, image in enumerate(disp_images):\n",
        "    # For each image in disp_images, index into proper subplot\n",
        "    plt.subplot(3, 10, offset + idx + 1)\n",
        "    plt.xticks([])\n",
        "    plt.yticks([])\n",
        "\n",
        "    # Display current iamge\n",
        "    image = np.reshape(image, shape)\n",
        "    plt.imshow(image)\n",
        "\n",
        "\n",
        "def display_results(disp_input_images, disp_encoded, disp_predicted, enc_shape=(8, 8)):\n",
        "  '''Display the input, encoded, and decoded output images'''\n",
        "\n",
        "  plt.figure(figsize=(15, 5))\n",
        "\n",
        "  # Display input images in row 1\n",
        "  display_one_row(disp_input_images, 0, shape=(32,32,3))\n",
        "\n",
        "  # Display encoder representations in row 2\n",
        "  display_one_row(disp_encoded, 10, shape=enc_shape)\n",
        "\n",
        "  # Display decoded reconstructions in row 3\n",
        "  display_one_row(disp_predicted, 20, shape=(32,32,3))\n"
      ],
      "execution_count": null,
      "outputs": []
    },
    {
      "cell_type": "code",
      "metadata": {
        "id": "togxHTf4VHrk"
      },
      "source": [
        "# Take 1 batch of the test dataset\n",
        "test_sample = test_dataset.take(1)\n",
        "\n",
        "# Put batch of images in a list\n",
        "orig_images = []\n",
        "for input_image, image in tfds.as_numpy(test_sample):\n",
        "  orig_images = input_image\n",
        "\n",
        "# Pick 10 random indices from list\n",
        "idxs = np.random.choice(np.arange(0, len(orig_images)), size=10, replace=False)\n",
        "\n",
        "# Get images to display\n",
        "orig_sample = np.array(orig_images[idxs])\n",
        "orig_sample = np.reshape(orig_sample, (10, 32, 32, 3))\n",
        "\n",
        "# Get encoder representations\n",
        "encoded = encoder_model.predict(orig_sample)\n",
        "\n",
        "# Get decoder predictions\n",
        "predicted = model.predict(orig_sample)\n",
        "\n",
        "# Display the samples, encodings, and decoded values\n",
        "display_results(orig_sample, encoded, predicted, enc_shape=(8, 8))"
      ],
      "execution_count": null,
      "outputs": []
    },
    {
      "cell_type": "markdown",
      "metadata": {
        "id": "uaRSkQPNAPT0"
      },
      "source": [
        "## Save your model\n",
        "\n",
        "Once you are satisfied with the results, you can now save your model. Please download it from the Files window on the left and go back to the Submission portal in Coursera for grading."
      ]
    },
    {
      "cell_type": "code",
      "metadata": {
        "id": "pLFpLP-c7rDR"
      },
      "source": [
        "model.save('mymodel.h5')"
      ],
      "execution_count": null,
      "outputs": []
    },
    {
      "cell_type": "markdown",
      "metadata": {
        "id": "QArMiXJTDxDe"
      },
      "source": [
        "**Congratulations on completing this week's assignment!**"
      ]
    }
  ]
}